{
 "cells": [
  {
   "cell_type": "code",
   "execution_count": 41,
   "id": "initial_id",
   "metadata": {
    "collapsed": true,
    "ExecuteTime": {
     "end_time": "2023-08-18T09:21:03.522197500Z",
     "start_time": "2023-08-18T09:21:03.517961200Z"
    }
   },
   "outputs": [],
   "source": [
    "import os\n",
    "\n",
    "import torch\n",
    "from sklearn.model_selection import train_test_split\n",
    "from torch.utils.data import Dataset, DataLoader\n",
    "from tqdm import tqdm\n",
    "from transformers import AutoTokenizer, AlbertForSequenceClassification\n",
    "\n",
    "from apk_analysis.dataset import load_dataset, TextDataset\n"
   ]
  },
  {
   "cell_type": "code",
   "execution_count": 4,
   "id": "4dad4d4e",
   "metadata": {
    "ExecuteTime": {
     "end_time": "2023-08-18T08:52:34.364958500Z",
     "start_time": "2023-08-18T08:52:34.346606100Z"
    }
   },
   "outputs": [
    {
     "data": {
      "text/plain": "['NVIDIA GeForce RTX 3070 Ti Laptop GPU']"
     },
     "execution_count": 4,
     "metadata": {},
     "output_type": "execute_result"
    }
   ],
   "source": [
    "DEVICE = torch.device(\"cuda\" if torch.cuda.is_available() else \"cpu\")\n",
    "[torch.cuda.get_device_name(i) for i in range(torch.cuda.device_count())]\n"
   ]
  },
  {
   "cell_type": "code",
   "execution_count": 5,
   "id": "4c00108a329cc92c",
   "metadata": {
    "collapsed": false,
    "ExecuteTime": {
     "end_time": "2023-08-18T08:52:48.050501100Z",
     "start_time": "2023-08-18T08:52:35.597456300Z"
    }
   },
   "outputs": [],
   "source": [
    "DATASET_DIR = os.path.join(\".\", \"resources\", \"dataset\")\n",
    "PRIVACY_TYPES_COSINE_DATASET_PATH = os.path.join(DATASET_DIR, \"privacy_types_cosine_dataset.json\")\n",
    "PRIVACY_TYPES_N_GRAM_DATASET_PATH = os.path.join(DATASET_DIR, \"privacy_types_n_gram_dataset.json\")\n",
    "\n",
    "PRIVACY_TYPES_COSINE_DATASET_JSON: TextDataset = load_dataset(PRIVACY_TYPES_COSINE_DATASET_PATH)\n",
    "PRIVACY_TYPES_N_GRAM_DATASET_JSON: TextDataset = load_dataset(PRIVACY_TYPES_N_GRAM_DATASET_PATH)\n",
    "\n",
    "USING_TEXT_DATASET = PRIVACY_TYPES_N_GRAM_DATASET_JSON\n"
   ]
  },
  {
   "cell_type": "code",
   "execution_count": 16,
   "id": "d0b6ccee93bfd195",
   "metadata": {
    "collapsed": false,
    "ExecuteTime": {
     "end_time": "2023-08-18T09:03:04.245355100Z",
     "start_time": "2023-08-18T09:03:02.955316600Z"
    }
   },
   "outputs": [],
   "source": [
    "TOKENIZER = AutoTokenizer.from_pretrained(\"albert-base-v2\")\n"
   ]
  },
  {
   "cell_type": "code",
   "execution_count": 33,
   "id": "581404d0ff27e802",
   "metadata": {
    "collapsed": false,
    "ExecuteTime": {
     "end_time": "2023-08-18T09:12:38.731320800Z",
     "start_time": "2023-08-18T09:12:38.729884Z"
    }
   },
   "outputs": [],
   "source": [
    "class SimpleDataset(Dataset):\n",
    "    def __init__(self, texts: list[str], labels: list[float], max_length: int):\n",
    "        self._texts = texts\n",
    "        self._labels = labels\n",
    "        self._max_length = max_length\n",
    "\n",
    "    def __getitem__(self, index: int):\n",
    "        input_tensors = TOKENIZER.encode_plus(self._texts[index], max_length=self._max_length, padding=\"max_length\", truncation=True, return_tensors=\"pt\")\n",
    "        label_tensor = torch.tensor(self._labels[index], dtype=torch.float32)\n",
    "        return input_tensors['input_ids'].squeeze(), input_tensors['attention_mask'].squeeze(), label_tensor\n",
    "\n",
    "    def __len__(self) -> int:\n",
    "        return len(self._texts)\n"
   ]
  },
  {
   "cell_type": "code",
   "execution_count": 34,
   "outputs": [],
   "source": [
    "train_texts, test_texts, train_labels, test_labels = train_test_split(USING_TEXT_DATASET.contents, USING_TEXT_DATASET.labels, test_size=0.4, random_state=9326)\n",
    "test_texts, val_texts, test_labels, val_labels = train_test_split(test_texts, test_labels, test_size=0.5, random_state=22912)\n"
   ],
   "metadata": {
    "collapsed": false,
    "ExecuteTime": {
     "end_time": "2023-08-18T09:12:46.027592600Z",
     "start_time": "2023-08-18T09:12:45.762045100Z"
    }
   },
   "id": "f2d57608de3fa97b"
  },
  {
   "cell_type": "code",
   "execution_count": 35,
   "id": "c25adf853f8196f1",
   "metadata": {
    "collapsed": false,
    "ExecuteTime": {
     "end_time": "2023-08-18T09:12:52.640581Z",
     "start_time": "2023-08-18T09:12:52.626874800Z"
    }
   },
   "outputs": [],
   "source": [
    "MAX_TEXT_LENGTH = 50\n",
    "\n",
    "CATEGORIES_NAMES = USING_TEXT_DATASET.categories\n",
    "TRAIN_DATASET = SimpleDataset(train_texts, train_labels, MAX_TEXT_LENGTH)\n",
    "TEST_DATASET = SimpleDataset(test_texts, test_labels, MAX_TEXT_LENGTH)\n",
    "VAL_DATASET = SimpleDataset(val_texts, val_labels, MAX_TEXT_LENGTH)\n",
    "\n",
    "BATCH_SIZE = 64\n",
    "TRAIN_LOADER = DataLoader(TRAIN_DATASET, batch_size=BATCH_SIZE, shuffle=True)\n",
    "TEST_LOADER = DataLoader(TEST_DATASET, batch_size=BATCH_SIZE, shuffle=True)\n",
    "VAL_LOADER = DataLoader(VAL_DATASET, batch_size=BATCH_SIZE, shuffle=True)\n"
   ]
  },
  {
   "cell_type": "code",
   "execution_count": 38,
   "id": "6569c1a3d016b7f3",
   "metadata": {
    "collapsed": false,
    "ExecuteTime": {
     "end_time": "2023-08-18T09:14:55.349220700Z",
     "start_time": "2023-08-18T09:14:54.608044900Z"
    }
   },
   "outputs": [
    {
     "name": "stderr",
     "output_type": "stream",
     "text": [
      "Some weights of AlbertForSequenceClassification were not initialized from the model checkpoint at albert-base-v2 and are newly initialized: ['classifier.weight', 'classifier.bias']\n",
      "You should probably TRAIN this model on a down-stream task to be able to use it for predictions and inference.\n"
     ]
    }
   ],
   "source": [
    "LEARNING_RATE = 0.001\n",
    "\n",
    "MODEL = AlbertForSequenceClassification.from_pretrained(\"albert-base-v2\", num_labels=len(CATEGORIES_NAMES), problem_type=\"multi_label_classification\").to(DEVICE)\n",
    "CRITERION = torch.nn.BCEWithLogitsLoss().to(DEVICE)\n",
    "OPTIMIZER = torch.optim.AdamW(MODEL.parameters(), lr=LEARNING_RATE)\n"
   ]
  },
  {
   "cell_type": "code",
   "execution_count": 43,
   "id": "f04375097a5bf5c7",
   "metadata": {
    "collapsed": false,
    "ExecuteTime": {
     "end_time": "2023-08-18T09:22:31.342994400Z",
     "start_time": "2023-08-18T09:21:49.878725600Z"
    }
   },
   "outputs": [
    {
     "name": "stderr",
     "output_type": "stream",
     "text": [
      "Epoch 1/100:   0%|          | 0/4571 [00:41<?, ?it/s, Loss=0.00141, Avg loss=0.00153] \n"
     ]
    },
    {
     "ename": "KeyboardInterrupt",
     "evalue": "",
     "output_type": "error",
     "traceback": [
      "\u001B[1;31m---------------------------------------------------------------------------\u001B[0m",
      "\u001B[1;31mKeyboardInterrupt\u001B[0m                         Traceback (most recent call last)",
      "Cell \u001B[1;32mIn[43], line 14\u001B[0m\n\u001B[0;32m     11\u001B[0m outputs \u001B[38;5;241m=\u001B[39m MODEL(input_ids, attention_mask\u001B[38;5;241m=\u001B[39mattention_mask)[\u001B[38;5;241m0\u001B[39m]\n\u001B[0;32m     13\u001B[0m loss \u001B[38;5;241m=\u001B[39m CRITERION(outputs, target_labels\u001B[38;5;241m.\u001B[39mfloat())\n\u001B[1;32m---> 14\u001B[0m loss\u001B[38;5;241m.\u001B[39mbackward()\n\u001B[0;32m     16\u001B[0m OPTIMIZER\u001B[38;5;241m.\u001B[39mstep()\n\u001B[0;32m     18\u001B[0m total_loss\u001B[38;5;241m.\u001B[39mappend(loss\u001B[38;5;241m.\u001B[39mitem())\n",
      "File \u001B[1;32m~\\miniconda3\\envs\\project\\Lib\\site-packages\\torch\\_tensor.py:487\u001B[0m, in \u001B[0;36mTensor.backward\u001B[1;34m(self, gradient, retain_graph, create_graph, inputs)\u001B[0m\n\u001B[0;32m    477\u001B[0m \u001B[38;5;28;01mif\u001B[39;00m has_torch_function_unary(\u001B[38;5;28mself\u001B[39m):\n\u001B[0;32m    478\u001B[0m     \u001B[38;5;28;01mreturn\u001B[39;00m handle_torch_function(\n\u001B[0;32m    479\u001B[0m         Tensor\u001B[38;5;241m.\u001B[39mbackward,\n\u001B[0;32m    480\u001B[0m         (\u001B[38;5;28mself\u001B[39m,),\n\u001B[1;32m   (...)\u001B[0m\n\u001B[0;32m    485\u001B[0m         inputs\u001B[38;5;241m=\u001B[39minputs,\n\u001B[0;32m    486\u001B[0m     )\n\u001B[1;32m--> 487\u001B[0m torch\u001B[38;5;241m.\u001B[39mautograd\u001B[38;5;241m.\u001B[39mbackward(\n\u001B[0;32m    488\u001B[0m     \u001B[38;5;28mself\u001B[39m, gradient, retain_graph, create_graph, inputs\u001B[38;5;241m=\u001B[39minputs\n\u001B[0;32m    489\u001B[0m )\n",
      "File \u001B[1;32m~\\miniconda3\\envs\\project\\Lib\\site-packages\\torch\\autograd\\__init__.py:200\u001B[0m, in \u001B[0;36mbackward\u001B[1;34m(tensors, grad_tensors, retain_graph, create_graph, grad_variables, inputs)\u001B[0m\n\u001B[0;32m    195\u001B[0m     retain_graph \u001B[38;5;241m=\u001B[39m create_graph\n\u001B[0;32m    197\u001B[0m \u001B[38;5;66;03m# The reason we repeat same the comment below is that\u001B[39;00m\n\u001B[0;32m    198\u001B[0m \u001B[38;5;66;03m# some Python versions print out the first line of a multi-line function\u001B[39;00m\n\u001B[0;32m    199\u001B[0m \u001B[38;5;66;03m# calls in the traceback and some print out the last line\u001B[39;00m\n\u001B[1;32m--> 200\u001B[0m Variable\u001B[38;5;241m.\u001B[39m_execution_engine\u001B[38;5;241m.\u001B[39mrun_backward(  \u001B[38;5;66;03m# Calls into the C++ engine to run the backward pass\u001B[39;00m\n\u001B[0;32m    201\u001B[0m     tensors, grad_tensors_, retain_graph, create_graph, inputs,\n\u001B[0;32m    202\u001B[0m     allow_unreachable\u001B[38;5;241m=\u001B[39m\u001B[38;5;28;01mTrue\u001B[39;00m, accumulate_grad\u001B[38;5;241m=\u001B[39m\u001B[38;5;28;01mTrue\u001B[39;00m)\n",
      "\u001B[1;31mKeyboardInterrupt\u001B[0m: "
     ]
    }
   ],
   "source": [
    "EPOCH_NUM = 100\n",
    "MODEL.train()\n",
    "\n",
    "for epoch in range(EPOCH_NUM):\n",
    "    with tqdm(total=len(TRAIN_LOADER), desc=f\"Epoch {epoch + 1}/{EPOCH_NUM}\") as pbar:\n",
    "        total_loss = []\n",
    "        for input_ids, attention_mask, target_labels in TRAIN_LOADER:\n",
    "            input_ids, attention_mask, target_labels = input_ids.to(DEVICE), attention_mask.to(DEVICE), target_labels.to(DEVICE)\n",
    "            OPTIMIZER.zero_grad()\n",
    "\n",
    "            outputs = MODEL(input_ids, attention_mask=attention_mask)[0]\n",
    "\n",
    "            loss = CRITERION(outputs, target_labels.float())\n",
    "            loss.backward()\n",
    "\n",
    "            OPTIMIZER.step()\n",
    "\n",
    "            total_loss.append(loss.item())\n",
    "\n",
    "            pbar.set_postfix({\"Loss\": loss.item(), \"Avg loss\": sum(total_loss) / len(total_loss)})\n"
   ]
  },
  {
   "cell_type": "code",
   "execution_count": null,
   "outputs": [],
   "source": [],
   "metadata": {
    "collapsed": false
   },
   "id": "7fe27e35163580a4"
  }
 ],
 "metadata": {
  "kernelspec": {
   "display_name": "Python 3",
   "language": "python",
   "name": "python3"
  },
  "language_info": {
   "codemirror_mode": {
    "name": "ipython",
    "version": 3
   },
   "file_extension": ".py",
   "mimetype": "text/x-python",
   "name": "python",
   "nbconvert_exporter": "python",
   "pygments_lexer": "ipython3",
   "version": "3.11.4"
  }
 },
 "nbformat": 4,
 "nbformat_minor": 5
}
